{
 "cells": [
  {
   "cell_type": "code",
   "execution_count": 1,
   "metadata": {},
   "outputs": [],
   "source": [
    "import pandas as pd\n",
    "from helpers import *\n",
    "import os\n",
    "from collections import Counter"
   ]
  },
  {
   "cell_type": "code",
   "execution_count": 2,
   "metadata": {
    "scrolled": true
   },
   "outputs": [],
   "source": [
    "cong_zip_df = pd.read_csv(\"data/zccd_hud.csv\")"
   ]
  },
  {
   "cell_type": "code",
   "execution_count": 3,
   "metadata": {},
   "outputs": [],
   "source": [
    "pp_df = pd.read_excel(\"data/propublica_api_members.xlsx\")"
   ]
  },
  {
   "cell_type": "code",
   "execution_count": 4,
   "metadata": {},
   "outputs": [],
   "source": [
    "zq = pd.read_excel('data/zip_queries.xlsx')"
   ]
  },
  {
   "cell_type": "code",
   "execution_count": 5,
   "metadata": {},
   "outputs": [
    {
     "data": {
      "text/html": [
       "<div>\n",
       "<style scoped>\n",
       "    .dataframe tbody tr th:only-of-type {\n",
       "        vertical-align: middle;\n",
       "    }\n",
       "\n",
       "    .dataframe tbody tr th {\n",
       "        vertical-align: top;\n",
       "    }\n",
       "\n",
       "    .dataframe thead th {\n",
       "        text-align: right;\n",
       "    }\n",
       "</style>\n",
       "<table border=\"1\" class=\"dataframe\">\n",
       "  <thead>\n",
       "    <tr style=\"text-align: right;\">\n",
       "      <th></th>\n",
       "      <th>state_fips</th>\n",
       "      <th>state_abbr</th>\n",
       "      <th>zip</th>\n",
       "      <th>cd</th>\n",
       "    </tr>\n",
       "  </thead>\n",
       "  <tbody>\n",
       "    <tr>\n",
       "      <td>0</td>\n",
       "      <td>1</td>\n",
       "      <td>AL</td>\n",
       "      <td>30165</td>\n",
       "      <td>3</td>\n",
       "    </tr>\n",
       "    <tr>\n",
       "      <td>1</td>\n",
       "      <td>1</td>\n",
       "      <td>AL</td>\n",
       "      <td>31905</td>\n",
       "      <td>3</td>\n",
       "    </tr>\n",
       "  </tbody>\n",
       "</table>\n",
       "</div>"
      ],
      "text/plain": [
       "   state_fips state_abbr    zip cd\n",
       "0           1         AL  30165  3\n",
       "1           1         AL  31905  3"
      ]
     },
     "execution_count": 5,
     "metadata": {},
     "output_type": "execute_result"
    }
   ],
   "source": [
    "cong_zip_df['cd'] = cong_zip_df.cd.apply(lambda x: 'At Large' if x == 0 else str(x))\n",
    "cong_zip_df['zip'] = cong_zip_df.zip.apply(lambda z: ((5 - len(str(z))) * '0') + str(z))\n",
    "cong_zip_df.head(2)"
   ]
  },
  {
   "cell_type": "code",
   "execution_count": 6,
   "metadata": {},
   "outputs": [],
   "source": [
    "zip_queries = pd.read_excel('data/zip_queries.xlsx')\n",
    "zip_queries['zip'] = zip_queries.zip.apply(lambda z: ((5 - len(str(z))) * '0') + str(z))"
   ]
  },
  {
   "cell_type": "code",
   "execution_count": 7,
   "metadata": {},
   "outputs": [],
   "source": [
    "d = cong_zip_df.merge(pp_df, left_on = ['state_abbr', 'cd'], right_on = ['state', 'district'])"
   ]
  },
  {
   "cell_type": "code",
   "execution_count": 8,
   "metadata": {},
   "outputs": [],
   "source": [
    "d.to_csv(\"full_zip_cong.csv\")"
   ]
  },
  {
   "cell_type": "markdown",
   "metadata": {},
   "source": [
    "Match as many of the 2000 zipcodes with the apprmopriate district and representatives. Could only find match with 1916. Next time we do data collection, let's just start with things that match. "
   ]
  },
  {
   "cell_type": "code",
   "execution_count": 9,
   "metadata": {},
   "outputs": [],
   "source": [
    "file_names = os.listdir(\"results/3_9_zipcode\")"
   ]
  },
  {
   "cell_type": "code",
   "execution_count": 30,
   "metadata": {},
   "outputs": [],
   "source": [
    "d = d[d['zip'].isin(zip_queries.zip.values)]"
   ]
  },
  {
   "cell_type": "code",
   "execution_count": 11,
   "metadata": {},
   "outputs": [],
   "source": [
    "def getLastNames(df, z):\n",
    "    return df.loc[df['zip'] == z, 'last_name'].values"
   ]
  },
  {
   "cell_type": "code",
   "execution_count": 12,
   "metadata": {},
   "outputs": [
    {
     "name": "stdout",
     "output_type": "stream",
     "text": [
      "20 40 60 80 100 120 140 160 180 200 220 240 260 280 300 320 340 360 380 400 420 440 460 480 500 520 540 560 580 600 620 640 660 680 700 720 740 760 780 800 820 840 860 880 900 920 940 960 980 1000 1020 1040 1060 1080 1100 1120 1140 1160 1180 1200 1220 1240 1260 1280 1300 1320 1340 1360 1380 1400 1420 1440 1460 1480 1500 1520 1540 1560 1580 1600 1620 1640 1660 1680 1700 1720 1740 1760 1780 1800 1820 1840 1860 1880 1900 1920 1940 1960 1980 2000 2020 2040 2060 2080 2100 2120 2140 2160 2180 2200 2220 2240 2260 2280 2300 2320 2340 2360 2380 2400 2420 2440 "
     ]
    }
   ],
   "source": [
    "div_df = createZipcodeDivDf(d, '3_9_zipcode')"
   ]
  },
  {
   "cell_type": "code",
   "execution_count": 21,
   "metadata": {},
   "outputs": [
    {
     "data": {
      "text/plain": [
       "(1916, 4)"
      ]
     },
     "execution_count": 21,
     "metadata": {},
     "output_type": "execute_result"
    }
   ],
   "source": [
    "div_df.shape"
   ]
  },
  {
   "cell_type": "code",
   "execution_count": 13,
   "metadata": {},
   "outputs": [],
   "source": [
    "div_text_df = createTextDf(div_df)"
   ]
  },
  {
   "cell_type": "code",
   "execution_count": 14,
   "metadata": {},
   "outputs": [],
   "source": [
    "def createBoolNameDfZip(text_df):\n",
    "    '''return Dataframe that returns True where the appropriate congressperson's\n",
    "    name is in the div text'''\n",
    "    name_dict = {}\n",
    "    for i, row in text_df.iterrows():\n",
    "           name_dict[i] = [isNameInResultZip(result_text,i) for result_text in row]\n",
    "    return pd.DataFrame.from_dict(name_dict, orient='index')"
   ]
  },
  {
   "cell_type": "code",
   "execution_count": 15,
   "metadata": {},
   "outputs": [],
   "source": [
    "def isNameInResultZip(div_text, z):\n",
    "    '''test if the congressperson's last name appears in the text of the result div\n",
    "    if this is an analysis based on congressional district expect a string for cong_id,\n",
    "    if this is an analysis based on zipcode, expect a list for cong_id'''\n",
    "    last_names = d.loc[d.zip == z, 'last_name']\n",
    "    return any([name in div_text for name in set(last_names.values)])"
   ]
  },
  {
   "cell_type": "code",
   "execution_count": 16,
   "metadata": {},
   "outputs": [],
   "source": [
    "createBoolNameDfZip(div_text_df).to_csv('zip_name_df_3_9.csv')"
   ]
  },
  {
   "cell_type": "code",
   "execution_count": 33,
   "metadata": {},
   "outputs": [],
   "source": [
    "rep_names = d.last_name.values\n",
    "def hasRepName(div_text): \n",
    "    names = set()\n",
    "    for word in div_text.split():\n",
    "        if word in rep_names:\n",
    "            names.add(word)\n",
    "    return names"
   ]
  },
  {
   "cell_type": "code",
   "execution_count": null,
   "metadata": {},
   "outputs": [],
   "source": []
  },
  {
   "cell_type": "code",
   "execution_count": 34,
   "metadata": {},
   "outputs": [],
   "source": [
    "rep_names = div_text_df.applymap(hasRepName)"
   ]
  },
  {
   "cell_type": "code",
   "execution_count": 35,
   "metadata": {},
   "outputs": [
    {
     "data": {
      "text/html": [
       "<div>\n",
       "<style scoped>\n",
       "    .dataframe tbody tr th:only-of-type {\n",
       "        vertical-align: middle;\n",
       "    }\n",
       "\n",
       "    .dataframe tbody tr th {\n",
       "        vertical-align: top;\n",
       "    }\n",
       "\n",
       "    .dataframe thead th {\n",
       "        text-align: right;\n",
       "    }\n",
       "</style>\n",
       "<table border=\"1\" class=\"dataframe\">\n",
       "  <thead>\n",
       "    <tr style=\"text-align: right;\">\n",
       "      <th></th>\n",
       "      <th>congress</th>\n",
       "      <th>congressperson</th>\n",
       "      <th>rep</th>\n",
       "      <th>representative</th>\n",
       "    </tr>\n",
       "  </thead>\n",
       "  <tbody>\n",
       "    <tr>\n",
       "      <td>31905</td>\n",
       "      <td>{}</td>\n",
       "      <td>{Bishop}</td>\n",
       "      <td>{}</td>\n",
       "      <td>{}</td>\n",
       "    </tr>\n",
       "    <tr>\n",
       "      <td>35044</td>\n",
       "      <td>{}</td>\n",
       "      <td>{Sewell}</td>\n",
       "      <td>{}</td>\n",
       "      <td>{}</td>\n",
       "    </tr>\n",
       "  </tbody>\n",
       "</table>\n",
       "</div>"
      ],
      "text/plain": [
       "      congress congressperson rep representative\n",
       "31905       {}       {Bishop}  {}             {}\n",
       "35044       {}       {Sewell}  {}             {}"
      ]
     },
     "execution_count": 35,
     "metadata": {},
     "output_type": "execute_result"
    }
   ],
   "source": [
    "rep_names.head(2)"
   ]
  },
  {
   "cell_type": "code",
   "execution_count": 17,
   "metadata": {},
   "outputs": [],
   "source": [
    "def isNameInSet(s,cong_id):\n",
    "    '''test if the congressperson's last name appears in the list of names'''\n",
    "    last_names = d.loc[d.zip == z, 'last_name']\n",
    "    for name in s: \n",
    "        if name in last_names:\n",
    "            return True\n",
    "    return False"
   ]
  },
  {
   "cell_type": "code",
   "execution_count": 18,
   "metadata": {},
   "outputs": [],
   "source": [
    "t = {} \n",
    "for z in d.zip.values: \n",
    "    t[z] = d.loc[d.zip == z, 'last_name'].values\n",
    "\n",
    "l_df = pd.DataFrame(data=[t.values()], columns = t.keys()).T\n",
    "l_df = l_df.reset_index()"
   ]
  },
  {
   "cell_type": "code",
   "execution_count": 19,
   "metadata": {},
   "outputs": [],
   "source": [
    "def otherNamesDf(rep_names_df):\n",
    "    name_dict = {}\n",
    "    for i, row in rep_names_df.iterrows():\n",
    "        name_dict[i] = []\n",
    "        for s in row: \n",
    "            \n",
    "            if isNameInResultZip(s, i):\n",
    "                name_dict[i].append(set())\n",
    "            else: \n",
    "                name_dict[i].append(s)\n",
    "            \n",
    "    df = pd.DataFrame.from_dict(name_dict, orient='index')\n",
    "    df = df.reset_index()\n",
    "    return df"
   ]
  },
  {
   "cell_type": "code",
   "execution_count": 36,
   "metadata": {},
   "outputs": [],
   "source": [
    "other_names = otherNamesDf(rep_names)"
   ]
  },
  {
   "cell_type": "code",
   "execution_count": 37,
   "metadata": {
    "scrolled": true
   },
   "outputs": [],
   "source": [
    "other_names.to_csv('3_9_other_rep_names.csv')"
   ]
  },
  {
   "cell_type": "code",
   "execution_count": 25,
   "metadata": {},
   "outputs": [
    {
     "data": {
      "text/html": [
       "<div>\n",
       "<style scoped>\n",
       "    .dataframe tbody tr th:only-of-type {\n",
       "        vertical-align: middle;\n",
       "    }\n",
       "\n",
       "    .dataframe tbody tr th {\n",
       "        vertical-align: top;\n",
       "    }\n",
       "\n",
       "    .dataframe thead th {\n",
       "        text-align: right;\n",
       "    }\n",
       "</style>\n",
       "<table border=\"1\" class=\"dataframe\">\n",
       "  <thead>\n",
       "    <tr style=\"text-align: right;\">\n",
       "      <th></th>\n",
       "      <th>index</th>\n",
       "      <th>0</th>\n",
       "    </tr>\n",
       "  </thead>\n",
       "  <tbody>\n",
       "    <tr>\n",
       "      <td>0</td>\n",
       "      <td>31905</td>\n",
       "      <td>[Rogers, Bishop]</td>\n",
       "    </tr>\n",
       "    <tr>\n",
       "      <td>1</td>\n",
       "      <td>35044</td>\n",
       "      <td>[Rogers]</td>\n",
       "    </tr>\n",
       "  </tbody>\n",
       "</table>\n",
       "</div>"
      ],
      "text/plain": [
       "   index                 0\n",
       "0  31905  [Rogers, Bishop]\n",
       "1  35044          [Rogers]"
      ]
     },
     "execution_count": 25,
     "metadata": {},
     "output_type": "execute_result"
    }
   ],
   "source": [
    "l_df.head(2)"
   ]
  },
  {
   "cell_type": "code",
   "execution_count": 26,
   "metadata": {},
   "outputs": [],
   "source": [
    "other_names.merge(l_df, on='index').to_excel('other_reps_zipcode_3_9.xlsx')"
   ]
  },
  {
   "cell_type": "code",
   "execution_count": 29,
   "metadata": {},
   "outputs": [
    {
     "data": {
      "text/plain": [
       "[('Cook', 54),\n",
       " ('Scott', 30),\n",
       " ('Sherman', 21),\n",
       " ('Lee', 21),\n",
       " ('Johnson', 18),\n",
       " ('Williams', 15),\n",
       " ('Smith', 15),\n",
       " ('Harris', 14),\n",
       " ('Kim', 13),\n",
       " ('McNerney', 13),\n",
       " ('Green', 12),\n",
       " ('Hastings', 12),\n",
       " ('Evans', 12),\n",
       " ('Lowenthal', 11),\n",
       " ('Hill', 11),\n",
       " ('Serrano', 11),\n",
       " ('Cleaver', 10),\n",
       " ('Thompson', 9),\n",
       " ('Costa', 9),\n",
       " ('Kelly', 9),\n",
       " ('Ryan', 9),\n",
       " ('Schrier', 9),\n",
       " ('Davis', 8),\n",
       " ('Quigley', 8),\n",
       " ('Flores', 8),\n",
       " ('Turner', 7),\n",
       " ('Cuellar', 7),\n",
       " ('Wilson', 7),\n",
       " ('Castro', 7),\n",
       " ('Jayapal', 7),\n",
       " ('Stewart', 7),\n",
       " ('Garcia', 7),\n",
       " ('Long', 6),\n",
       " ('Aguilar', 6),\n",
       " ('Peters', 6),\n",
       " ('Carson', 6),\n",
       " ('Clay', 6),\n",
       " ('Brown', 6),\n",
       " ('McHenry', 6),\n",
       " ('King', 6),\n",
       " ('Pallone', 6),\n",
       " ('Rogers', 5),\n",
       " ('Allen', 5),\n",
       " ('Lofgren', 5),\n",
       " ('Neal', 5),\n",
       " ('Meadows', 5),\n",
       " ('Demings', 5),\n",
       " ('Lewis', 5),\n",
       " ('Joyce', 5),\n",
       " ('Keating', 5),\n",
       " ('Duncan', 5),\n",
       " ('Cooper', 5),\n",
       " ('Sarbanes', 5),\n",
       " ('Schweikert', 5),\n",
       " ('Dean', 5),\n",
       " ('Upton', 5),\n",
       " ('Smucker', 5),\n",
       " ('Larsen', 5),\n",
       " ('Murphy', 4),\n",
       " ('Nunes', 4),\n",
       " ('Bishop', 4),\n",
       " ('Ocasio-Cortez', 4),\n",
       " ('Levin', 4),\n",
       " ('Ferguson', 4),\n",
       " ('Dingell', 4),\n",
       " ('Larson', 4),\n",
       " ('Soto', 4),\n",
       " ('Bilirakis', 4),\n",
       " ('Webster', 4),\n",
       " ('Taylor', 4),\n",
       " ('Buchanan', 4),\n",
       " ('Gabbard', 4),\n",
       " ('Roy', 4),\n",
       " ('Clark', 4),\n",
       " ('Foster', 4),\n",
       " ('Cunningham', 4),\n",
       " ('Olson', 4),\n",
       " ('Shimkus', 4),\n",
       " ('Hudson', 4),\n",
       " ('Rose', 4),\n",
       " ('Perry', 4),\n",
       " ('Huizenga', 4),\n",
       " ('McCollum', 4),\n",
       " ('Cloud', 4),\n",
       " ('Walker', 4),\n",
       " ('Stefanik', 4),\n",
       " ('Delgado', 4),\n",
       " ('Meng', 4),\n",
       " ('Meeks', 4),\n",
       " ('Doyle', 4),\n",
       " ('Cox', 4),\n",
       " ('Gonzalez', 4),\n",
       " ('Collins', 3),\n",
       " ('Miller', 3),\n",
       " ('Calvert', 3),\n",
       " ('McClintock', 3),\n",
       " ('LaMalfa', 3),\n",
       " ('Case', 3),\n",
       " ('Himes', 3),\n",
       " ('Gaetz', 3),\n",
       " ('Woodall', 3),\n",
       " ('Norman', 3),\n",
       " ('Craig', 3),\n",
       " ('Rice', 3),\n",
       " ('Reed', 3),\n",
       " ('Wright', 3),\n",
       " ('Graves', 3),\n",
       " ('Price', 3),\n",
       " ('Lynch', 3),\n",
       " ('Guest', 3),\n",
       " ('Holding', 3),\n",
       " ('Sires', 3),\n",
       " ('Lowey', 3),\n",
       " ('Jordan', 3),\n",
       " ('Stivers', 3),\n",
       " ('Kaptur', 3),\n",
       " ('Lawson', 3),\n",
       " ('Cole', 3),\n",
       " ('Cartwright', 3),\n",
       " ('Weber', 3),\n",
       " ('Doggett', 3),\n",
       " ('Hurd', 3),\n",
       " ('Abraham', 3),\n",
       " ('Aderholt', 2),\n",
       " ('Simpson', 2),\n",
       " ('Griffith', 2),\n",
       " ('Schneider', 2),\n",
       " ('DeGette', 2),\n",
       " ('Keller', 2),\n",
       " ('Kirkpatrick', 2),\n",
       " ('Cohen', 2),\n",
       " ('Bass', 2),\n",
       " ('Stanton', 2),\n",
       " ('Torres', 2),\n",
       " ('Jeffries', 2),\n",
       " ('Rouzer', 2),\n",
       " ('Harder', 2),\n",
       " ('Garamendi', 2),\n",
       " ('Lipinski', 2),\n",
       " ('Lamborn', 2),\n",
       " ('Courtney', 2),\n",
       " ('Huffman', 2),\n",
       " ('Rutherford', 2),\n",
       " ('Hayes', 2),\n",
       " ('Schakowsky', 2),\n",
       " ('Brady', 2),\n",
       " ('Walden', 2),\n",
       " ('Rush', 2),\n",
       " ('Lesko', 2),\n",
       " ('Carter', 2),\n",
       " ('DeSaulnier', 2),\n",
       " ('Vargas', 2),\n",
       " ('McGovern', 2),\n",
       " ('Slotkin', 2),\n",
       " ('Clarke', 2),\n",
       " ('Moolenaar', 2),\n",
       " ('Clyburn', 2),\n",
       " ('Marshall', 2),\n",
       " ('Horsford', 2),\n",
       " ('Titus', 2),\n",
       " ('Boyle', 2),\n",
       " ('Deutch', 2),\n",
       " ('Lawrence', 2),\n",
       " ('Mitchell', 2),\n",
       " ('Maloney', 2),\n",
       " ('Fitzpatrick', 2),\n",
       " ('Cicilline', 2),\n",
       " ('Timmons', 2),\n",
       " ('Curtis', 2),\n",
       " ('Burgess', 2),\n",
       " ('Marchant', 2),\n",
       " ('Pelosi', 2),\n",
       " ('Mullin', 2),\n",
       " ('Sewell', 1),\n",
       " ('Byrne', 1),\n",
       " ('Gallego', 1),\n",
       " ('Davidson', 1),\n",
       " ('Cisneros', 1),\n",
       " ('Gomez', 1),\n",
       " ('Adams', 1),\n",
       " ('Carbajal', 1),\n",
       " ('Eshoo', 1),\n",
       " ('Biggs', 1),\n",
       " ('Diaz-Balart', 1),\n",
       " ('Rooney', 1),\n",
       " ('Porter', 1),\n",
       " ('Buck', 1),\n",
       " ('Yoho', 1),\n",
       " ('McCarthy', 1),\n",
       " ('LaHood', 1),\n",
       " ('Zeldin', 1),\n",
       " ('Tlaib', 1),\n",
       " ('Visclosky', 1),\n",
       " ('Mast', 1),\n",
       " ('Lieu', 1),\n",
       " ('Guthrie', 1),\n",
       " ('Suozzi', 1),\n",
       " ('Richmond', 1),\n",
       " ('Ruppersberger', 1),\n",
       " ('Moore', 1),\n",
       " ('Trahan', 1),\n",
       " ('Stevens', 1),\n",
       " ('Escobar', 1),\n",
       " ('Estes', 1),\n",
       " ('Kind', 1),\n",
       " ('Peterson', 1),\n",
       " ('Brooks', 1),\n",
       " ('Luetkemeyer', 1),\n",
       " ('Higgins', 1),\n",
       " ('Bacon', 1),\n",
       " ('Fortenberry', 1),\n",
       " ('Amodei', 1),\n",
       " ('Payne', 1),\n",
       " ('Nadler', 1),\n",
       " ('Pascrell', 1),\n",
       " ('Katko', 1),\n",
       " ('Golden', 1),\n",
       " ('Butterfield', 1),\n",
       " ('Waltz', 1),\n",
       " ('Beatty', 1),\n",
       " ('Balderson', 1),\n",
       " ('Fudge', 1),\n",
       " ('Hoyer', 1),\n",
       " ('Vela', 1),\n",
       " ('Chabot', 1),\n",
       " ('Baird', 1),\n",
       " ('García', 1),\n",
       " ('Raskin', 1),\n",
       " ('Phillips', 1),\n",
       " ('Lucas', 1),\n",
       " ('Blumenauer', 1),\n",
       " ('Conaway', 1),\n",
       " ('Lamb', 1),\n",
       " ('Allred', 1),\n",
       " ('DelBene', 1),\n",
       " ('Trone', 1),\n",
       " ('Meuser', 1),\n",
       " ('Schrader', 1),\n",
       " ('Reschenthaler', 1),\n",
       " ('Sensenbrenner', 1),\n",
       " ('Kustoff', 1),\n",
       " ('Tipton', 1),\n",
       " ('Arrington', 1),\n",
       " ('Tonko', 1),\n",
       " ('Ratcliffe', 1),\n",
       " ('Espaillat', 1),\n",
       " ('Hunter', 1),\n",
       " ('Kennedy', 1),\n",
       " ('McBath', 1),\n",
       " ('Kilmer', 1),\n",
       " ('Amash', 1),\n",
       " ('Neguse', 1),\n",
       " ('McKinley', 1),\n",
       " ('Brownley', 1),\n",
       " ('Pocan', 1)]"
      ]
     },
     "execution_count": 29,
     "metadata": {},
     "output_type": "execute_result"
    }
   ],
   "source": [
    "Counter([j  for el in other_names.merge(l_df, on='index')[['0_x', 1, 2, 3]].values for l in el for j in l if l != set()]).most_common()"
   ]
  },
  {
   "cell_type": "code",
   "execution_count": 34,
   "metadata": {},
   "outputs": [],
   "source": [
    "from collections import Counter"
   ]
  },
  {
   "cell_type": "code",
   "execution_count": null,
   "metadata": {},
   "outputs": [],
   "source": []
  }
 ],
 "metadata": {
  "kernelspec": {
   "display_name": "Python 3",
   "language": "python",
   "name": "python3"
  },
  "language_info": {
   "codemirror_mode": {
    "name": "ipython",
    "version": 3
   },
   "file_extension": ".py",
   "mimetype": "text/x-python",
   "name": "python",
   "nbconvert_exporter": "python",
   "pygments_lexer": "ipython3",
   "version": "3.7.4"
  }
 },
 "nbformat": 4,
 "nbformat_minor": 2
}
